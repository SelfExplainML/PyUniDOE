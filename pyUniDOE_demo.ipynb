{
 "cells": [
  {
   "cell_type": "code",
   "execution_count": 1,
   "metadata": {},
   "outputs": [],
   "source": [
    "import numpy as np \n",
    "import pyUniDOE as pydoe"
   ]
  },
  {
   "cell_type": "markdown",
   "metadata": {},
   "source": [
    "Provided Functions: \n",
    "```python\n",
    "1. DesignPairsPlot(x) \n",
    "2. DesignEval(x, crit=\"CD2\")\n",
    "3. DesignQuery(n,s,q,crit=\"CD2\",ShowCrit = True)\n",
    "4. GenUD(n,s,q,init=\"rand\",initX=np.array([[]]),crit=\"CD2\",maxiter=100,hits_ratio=0.1,levelpermt=False,rand_seed=0,vis=False)\n",
    "5. GenAUD(xp,n,s,q,init=\"rand\",initX=np.array([[]]),crit=\"CD2\",maxiter=100,hits_ratio=0.1,levelpermt=False,rand_seed=0,vis=False)\n",
    "6. GenAUD_COL(xp,n,s,q,init=\"rand\",initX=np.array([[]]),crit=\"CD2\",maxiter=100,hits_ratio=0.1,levelpermt=False,rand_seed=0,vis=False)\n",
    "7. GenUD_MS(n, s, q, crit=\"CD2\", maxiter=100, nshoot = 5, rand_seed=0, vis=False)\n",
    "8. GenAUD_MS(xp, n, s, q, crit=\"CD2\", maxiter=100, nshoot = 5, rand_seed=0, vis=False)\n",
    "9. GenAUD_COL_MS(xp, n, s, q, crit=\"CD2\", maxiter=100, nshoot = 5, rand_seed=0, vis=False)\n",
    "```"
   ]
  },
  {
   "cell_type": "markdown",
   "metadata": {},
   "source": [
    "## Evaluate existing designs"
   ]
  },
  {
   "cell_type": "code",
   "execution_count": 2,
   "metadata": {},
   "outputs": [
    {
     "data": {
      "text/plain": [
       "0.02957818930041123"
      ]
     },
     "execution_count": 2,
     "metadata": {},
     "output_type": "execute_result"
    }
   ],
   "source": [
    "x = np.array([[1, 2],\n",
    "              [3, 3],\n",
    "              [2, 1]])\n",
    "pydoe.DesignEval(x,crit=\"CD2\")"
   ]
  },
  {
   "cell_type": "markdown",
   "metadata": {},
   "source": [
    "## Get an existing design from database "
   ]
  },
  {
   "cell_type": "code",
   "execution_count": 3,
   "metadata": {},
   "outputs": [
    {
     "name": "stdout",
     "output_type": "stream",
     "text": [
      "CD2 = 0.018781110801050938 MD2 = 0.07904112932148344 Maximin = 1.9452528224193026\n"
     ]
    },
    {
     "data": {
      "text/plain": [
       "array([[2, 6, 4, 2],\n",
       "       [1, 5, 3, 5],\n",
       "       [4, 3, 5, 1],\n",
       "       [1, 2, 6, 4],\n",
       "       [2, 1, 1, 3],\n",
       "       [5, 1, 4, 5],\n",
       "       [5, 6, 1, 4],\n",
       "       [6, 2, 3, 2],\n",
       "       [4, 3, 2, 6],\n",
       "       [6, 5, 6, 3],\n",
       "       [3, 4, 5, 6],\n",
       "       [3, 4, 2, 1]])"
      ]
     },
     "execution_count": 3,
     "metadata": {},
     "output_type": "execute_result"
    }
   ],
   "source": [
    "pydoe.DesignQuery(n=12,s=4,q=6,crit=\"CD2\", ShowCrit = True)"
   ]
  },
  {
   "cell_type": "markdown",
   "metadata": {},
   "source": [
    "## Generate uniform design from random initialization"
   ]
  },
  {
   "cell_type": "code",
   "execution_count": 4,
   "metadata": {
    "scrolled": true
   },
   "outputs": [
    {
     "ename": "AttributeError",
     "evalue": "'NoneType' object has no attribute 'tolist'",
     "output_type": "error",
     "traceback": [
      "\u001b[0;31m---------------------------------------------------------------------------\u001b[0m",
      "\u001b[0;31mAttributeError\u001b[0m                            Traceback (most recent call last)",
      "\u001b[0;32m<ipython-input-4-8815593b7c60>\u001b[0m in \u001b[0;36m<module>\u001b[0;34m\u001b[0m\n\u001b[0;32m----> 1\u001b[0;31m \u001b[0mstat\u001b[0m\u001b[0;34m=\u001b[0m\u001b[0mpydoe\u001b[0m\u001b[0;34m.\u001b[0m\u001b[0mGenUD\u001b[0m\u001b[0;34m(\u001b[0m\u001b[0mn\u001b[0m\u001b[0;34m=\u001b[0m\u001b[0;36m12\u001b[0m\u001b[0;34m,\u001b[0m\u001b[0ms\u001b[0m\u001b[0;34m=\u001b[0m\u001b[0;36m4\u001b[0m\u001b[0;34m,\u001b[0m\u001b[0mq\u001b[0m\u001b[0;34m=\u001b[0m\u001b[0;36m6\u001b[0m\u001b[0;34m,\u001b[0m\u001b[0minit\u001b[0m\u001b[0;34m=\u001b[0m\u001b[0;34m\"rand\"\u001b[0m\u001b[0;34m,\u001b[0m\u001b[0mcrit\u001b[0m\u001b[0;34m=\u001b[0m\u001b[0;34m\"CD2\"\u001b[0m\u001b[0;34m,\u001b[0m\u001b[0mmaxiter\u001b[0m\u001b[0;34m=\u001b[0m\u001b[0;36m100\u001b[0m\u001b[0;34m,\u001b[0m\u001b[0mvis\u001b[0m\u001b[0;34m=\u001b[0m\u001b[0;32mTrue\u001b[0m\u001b[0;34m)\u001b[0m\u001b[0;34m\u001b[0m\u001b[0;34m\u001b[0m\u001b[0m\n\u001b[0m\u001b[1;32m      2\u001b[0m \u001b[0mprint\u001b[0m\u001b[0;34m(\u001b[0m\u001b[0;34m\"The initial design: \"\u001b[0m\u001b[0;34m)\u001b[0m\u001b[0;34m\u001b[0m\u001b[0;34m\u001b[0m\u001b[0m\n\u001b[1;32m      3\u001b[0m \u001b[0mprint\u001b[0m\u001b[0;34m(\u001b[0m\u001b[0mstat\u001b[0m\u001b[0;34m[\u001b[0m\u001b[0;34m\"initial_design\"\u001b[0m\u001b[0;34m]\u001b[0m\u001b[0;34m)\u001b[0m\u001b[0;34m\u001b[0m\u001b[0;34m\u001b[0m\u001b[0m\n\u001b[1;32m      4\u001b[0m \u001b[0;34m\u001b[0m\u001b[0m\n\u001b[1;32m      5\u001b[0m \u001b[0mprint\u001b[0m\u001b[0;34m(\u001b[0m\u001b[0;34m\"The final design: \"\u001b[0m\u001b[0;34m)\u001b[0m\u001b[0;34m\u001b[0m\u001b[0;34m\u001b[0m\u001b[0m\n",
      "\u001b[0;32m~/zebin/UniDOE/pyUnidoe/pyUniDOE/pyUniDOE.py\u001b[0m in \u001b[0;36mGenUD\u001b[0;34m(n, s, q, init, initX, crit, maxiter, hits_ratio, levelpermt, rand_seed, vis)\u001b[0m\n\u001b[1;32m    186\u001b[0m             \u001b[0;32mreturn\u001b[0m \u001b[0;34m\"initX does not follow a balanced design.\"\u001b[0m\u001b[0;34m\u001b[0m\u001b[0;34m\u001b[0m\u001b[0m\n\u001b[1;32m    187\u001b[0m \u001b[0;34m\u001b[0m\u001b[0m\n\u001b[0;32m--> 188\u001b[0;31m     \u001b[0mresults\u001b[0m \u001b[0;34m=\u001b[0m \u001b[0mSATA_UD\u001b[0m\u001b[0;34m(\u001b[0m\u001b[0mn\u001b[0m\u001b[0;34m,\u001b[0m\u001b[0ms\u001b[0m\u001b[0;34m,\u001b[0m\u001b[0mq\u001b[0m\u001b[0;34m,\u001b[0m\u001b[0minit\u001b[0m\u001b[0;34m,\u001b[0m\u001b[0minitX\u001b[0m\u001b[0;34m.\u001b[0m\u001b[0mtolist\u001b[0m\u001b[0;34m(\u001b[0m\u001b[0;34m)\u001b[0m\u001b[0;34m,\u001b[0m\u001b[0mcrit\u001b[0m\u001b[0;34m,\u001b[0m\u001b[0mmaxiter\u001b[0m\u001b[0;34m,\u001b[0m\u001b[0mhits_ratio\u001b[0m\u001b[0;34m,\u001b[0m\u001b[0mlevelpermt\u001b[0m\u001b[0;34m,\u001b[0m \u001b[0mrand_seed\u001b[0m\u001b[0;34m)\u001b[0m\u001b[0;34m\u001b[0m\u001b[0;34m\u001b[0m\u001b[0m\n\u001b[0m\u001b[1;32m    189\u001b[0m     stat = {\"initial_design\": np.array(results.Init_Design, dtype = int), \n\u001b[1;32m    190\u001b[0m            \u001b[0;34m\"final_design\"\u001b[0m\u001b[0;34m:\u001b[0m \u001b[0mnp\u001b[0m\u001b[0;34m.\u001b[0m\u001b[0marray\u001b[0m\u001b[0;34m(\u001b[0m\u001b[0mresults\u001b[0m\u001b[0;34m.\u001b[0m\u001b[0mFinal_Design\u001b[0m\u001b[0;34m,\u001b[0m \u001b[0mdtype\u001b[0m \u001b[0;34m=\u001b[0m \u001b[0mint\u001b[0m\u001b[0;34m)\u001b[0m\u001b[0;34m,\u001b[0m\u001b[0;34m\u001b[0m\u001b[0;34m\u001b[0m\u001b[0m\n",
      "\u001b[0;31mAttributeError\u001b[0m: 'NoneType' object has no attribute 'tolist'"
     ]
    }
   ],
   "source": [
    "stat=pydoe.GenUD(n=12,s=4,q=6,init=\"rand\",crit=\"CD2\",maxiter=100,vis=True)\n",
    "print(\"The initial design: \")\n",
    "print(stat[\"initial_design\"])\n",
    "\n",
    "print(\"The final design: \")\n",
    "print(stat[\"final_design\"])"
   ]
  },
  {
   "cell_type": "code",
   "execution_count": null,
   "metadata": {},
   "outputs": [],
   "source": [
    "x1 = stat[\"final_design\"]\n",
    "pydoe.DesignPairsPlot(x1)"
   ]
  },
  {
   "cell_type": "markdown",
   "metadata": {},
   "source": [
    "## Augment uniform design (Runs)"
   ]
  },
  {
   "cell_type": "code",
   "execution_count": null,
   "metadata": {
    "scrolled": true
   },
   "outputs": [],
   "source": [
    "stat = pydoe.GenAUD(xp = x1, n = 24, s = 4, q = 6, crit=\"CD2\", maxiter=100, vis = True)\n",
    "print(\"The initial design: \")\n",
    "print(stat[\"initial_design\"])\n",
    "\n",
    "print(\"The final design: \")\n",
    "print(stat[\"final_design\"])"
   ]
  },
  {
   "cell_type": "code",
   "execution_count": null,
   "metadata": {},
   "outputs": [],
   "source": [
    "x2 = stat[\"final_design\"]\n",
    "pydoe.DesignPairsPlot(x2)"
   ]
  },
  {
   "cell_type": "markdown",
   "metadata": {},
   "source": [
    "## Augment uniform design (Factors)"
   ]
  },
  {
   "cell_type": "code",
   "execution_count": null,
   "metadata": {},
   "outputs": [],
   "source": [
    "stat = pydoe.GenAUD_COL(xp=x1, n = 12, s = 5 ,q = 6, crit=\"CD2\", maxiter=100, vis = True)\n",
    "print(\"The initial design: \")\n",
    "print(stat[\"initial_design\"])\n",
    "\n",
    "print(\"The final design: \")\n",
    "print(stat[\"final_design\"])"
   ]
  },
  {
   "cell_type": "code",
   "execution_count": null,
   "metadata": {},
   "outputs": [],
   "source": [
    "x3 = stat[\"final_design\"]\n",
    "pydoe.DesignPairsPlot(x3)"
   ]
  },
  {
   "cell_type": "markdown",
   "metadata": {},
   "source": [
    "## Multi-shoot Strategy"
   ]
  },
  {
   "cell_type": "code",
   "execution_count": null,
   "metadata": {},
   "outputs": [],
   "source": [
    "x1_multi = pydoe.GenUD_MS(n=12, s=4, q=6, crit=\"CD2\", maxiter=100, nshoot = 5, vis=False)\n",
    "pydoe.DesignEval(x1_multi,crit=\"CD2\")"
   ]
  },
  {
   "cell_type": "code",
   "execution_count": null,
   "metadata": {},
   "outputs": [],
   "source": [
    "x2_multi = pydoe.GenAUD_MS(x1_multi, n=24, s=4, q=6, crit=\"CD2\", maxiter=100, nshoot = 5, vis=False)\n",
    "pydoe.DesignEval(x2_multi,crit=\"CD2\")"
   ]
  },
  {
   "cell_type": "code",
   "execution_count": null,
   "metadata": {},
   "outputs": [],
   "source": [
    "x3_multi = pydoe.GenAUD_COL_MS(x1_multi, n=12, s=5, q=6, crit=\"CD2\", maxiter=100, nshoot = 5, vis=False)\n",
    "pydoe.DesignEval(x3_multi,crit=\"CD2\")"
   ]
  }
 ],
 "metadata": {
  "kernelspec": {
   "display_name": "Python 3",
   "language": "python",
   "name": "python3"
  },
  "language_info": {
   "codemirror_mode": {
    "name": "ipython",
    "version": 3
   },
   "file_extension": ".py",
   "mimetype": "text/x-python",
   "name": "python",
   "nbconvert_exporter": "python",
   "pygments_lexer": "ipython3",
   "version": "3.7.3"
  }
 },
 "nbformat": 4,
 "nbformat_minor": 2
}
