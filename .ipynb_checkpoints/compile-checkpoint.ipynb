{
 "cells": [
  {
   "cell_type": "code",
   "execution_count": 8,
   "metadata": {
    "scrolled": true
   },
   "outputs": [
    {
     "name": "stdout",
     "output_type": "stream",
     "text": [
      "running bdist_wheel\n",
      "running build\n",
      "running build_py\n",
      "copying pyUniDOE/pyUniDOE.py -> build/lib.linux-x86_64-3.7/pyUniDOE\n",
      "copying pyUniDOE/pyUniDOE_swig.py -> build/lib.linux-x86_64-3.7/pyUniDOE\n",
      "running build_ext\n",
      "building '_pyUniDOE_swig' extension\n",
      "gcc -pthread -B /home/r7user1/anaconda2_local/compiler_compat -Wl,--sysroot=/ -Wsign-compare -DNDEBUG -g -fwrapv -O3 -Wall -fPIC -I/home/r7user1/anaconda2_local/include/python3.7m -c pyUniDOE/pyUniDOE_swig_wrap.cxx -o build/temp.linux-x86_64-3.7/pyUniDOE/pyUniDOE_swig_wrap.o\n",
      "gcc -pthread -B /home/r7user1/anaconda2_local/compiler_compat -Wl,--sysroot=/ -Wsign-compare -DNDEBUG -g -fwrapv -O3 -Wall -fPIC -I/home/r7user1/anaconda2_local/include/python3.7m -c pyUniDOE/wrapper.cpp -o build/temp.linux-x86_64-3.7/pyUniDOE/wrapper.o\n",
      "gcc -pthread -B /home/r7user1/anaconda2_local/compiler_compat -Wl,--sysroot=/ -Wsign-compare -DNDEBUG -g -fwrapv -O3 -Wall -fPIC -I/home/r7user1/anaconda2_local/include/python3.7m -c pyUniDOE/doe_optimizer.cpp -o build/temp.linux-x86_64-3.7/pyUniDOE/doe_optimizer.o\n",
      "gcc -pthread -B /home/r7user1/anaconda2_local/compiler_compat -Wl,--sysroot=/ -Wsign-compare -DNDEBUG -g -fwrapv -O3 -Wall -fPIC -I/home/r7user1/anaconda2_local/include/python3.7m -c pyUniDOE/doe_criteria.cpp -o build/temp.linux-x86_64-3.7/pyUniDOE/doe_criteria.o\n",
      "gcc -pthread -B /home/r7user1/anaconda2_local/compiler_compat -Wl,--sysroot=/ -Wsign-compare -DNDEBUG -g -fwrapv -O3 -Wall -fPIC -I/home/r7user1/anaconda2_local/include/python3.7m -c pyUniDOE/doe_CD2.cpp -o build/temp.linux-x86_64-3.7/pyUniDOE/doe_CD2.o\n",
      "gcc -pthread -B /home/r7user1/anaconda2_local/compiler_compat -Wl,--sysroot=/ -Wsign-compare -DNDEBUG -g -fwrapv -O3 -Wall -fPIC -I/home/r7user1/anaconda2_local/include/python3.7m -c pyUniDOE/doe_MD2.cpp -o build/temp.linux-x86_64-3.7/pyUniDOE/doe_MD2.o\n",
      "gcc -pthread -B /home/r7user1/anaconda2_local/compiler_compat -Wl,--sysroot=/ -Wsign-compare -DNDEBUG -g -fwrapv -O3 -Wall -fPIC -I/home/r7user1/anaconda2_local/include/python3.7m -c pyUniDOE/doe_WD2.cpp -o build/temp.linux-x86_64-3.7/pyUniDOE/doe_WD2.o\n",
      "gcc -pthread -B /home/r7user1/anaconda2_local/compiler_compat -Wl,--sysroot=/ -Wsign-compare -DNDEBUG -g -fwrapv -O3 -Wall -fPIC -I/home/r7user1/anaconda2_local/include/python3.7m -c pyUniDOE/doe_maximin.cpp -o build/temp.linux-x86_64-3.7/pyUniDOE/doe_maximin.o\n",
      "gcc -pthread -B /home/r7user1/anaconda2_local/compiler_compat -Wl,--sysroot=/ -Wsign-compare -DNDEBUG -g -fwrapv -O3 -Wall -fPIC -I/home/r7user1/anaconda2_local/include/python3.7m -c pyUniDOE/doe_MC.cpp -o build/temp.linux-x86_64-3.7/pyUniDOE/doe_MC.o\n",
      "gcc -pthread -B /home/r7user1/anaconda2_local/compiler_compat -Wl,--sysroot=/ -Wsign-compare -DNDEBUG -g -fwrapv -O3 -Wall -fPIC -I/home/r7user1/anaconda2_local/include/python3.7m -c pyUniDOE/doe_A2.cpp -o build/temp.linux-x86_64-3.7/pyUniDOE/doe_A2.o\n",
      "g++ -pthread -shared -B /home/r7user1/anaconda2_local/compiler_compat -L/home/r7user1/anaconda2_local/lib -Wl,-rpath=/home/r7user1/anaconda2_local/lib -Wl,--no-as-needed -Wl,--sysroot=/ build/temp.linux-x86_64-3.7/pyUniDOE/pyUniDOE_swig_wrap.o build/temp.linux-x86_64-3.7/pyUniDOE/wrapper.o build/temp.linux-x86_64-3.7/pyUniDOE/doe_optimizer.o build/temp.linux-x86_64-3.7/pyUniDOE/doe_criteria.o build/temp.linux-x86_64-3.7/pyUniDOE/doe_CD2.o build/temp.linux-x86_64-3.7/pyUniDOE/doe_MD2.o build/temp.linux-x86_64-3.7/pyUniDOE/doe_WD2.o build/temp.linux-x86_64-3.7/pyUniDOE/doe_maximin.o build/temp.linux-x86_64-3.7/pyUniDOE/doe_MC.o build/temp.linux-x86_64-3.7/pyUniDOE/doe_A2.o -o build/lib.linux-x86_64-3.7/_pyUniDOE_swig.cpython-37m-x86_64-linux-gnu.so\n",
      "installing to build/bdist.linux-x86_64/wheel\n",
      "running install\n",
      "running install_lib\n",
      "creating build/bdist.linux-x86_64/wheel\n",
      "creating build/bdist.linux-x86_64/wheel/pyUniDOE\n",
      "copying build/lib.linux-x86_64-3.7/pyUniDOE/__init__.py -> build/bdist.linux-x86_64/wheel/pyUniDOE\n",
      "creating build/bdist.linux-x86_64/wheel/pyUniDOE/data\n",
      "copying build/lib.linux-x86_64-3.7/pyUniDOE/data/UD_CD2.json -> build/bdist.linux-x86_64/wheel/pyUniDOE/data\n",
      "copying build/lib.linux-x86_64-3.7/pyUniDOE/data/UD_MD2.json -> build/bdist.linux-x86_64/wheel/pyUniDOE/data\n",
      "copying build/lib.linux-x86_64-3.7/pyUniDOE/pyUniDOE.py -> build/bdist.linux-x86_64/wheel/pyUniDOE\n",
      "copying build/lib.linux-x86_64-3.7/pyUniDOE/pyUniDOE_swig.py -> build/bdist.linux-x86_64/wheel/pyUniDOE\n",
      "copying build/lib.linux-x86_64-3.7/_pyUniDOE_swig.cpython-37m-x86_64-linux-gnu.so -> build/bdist.linux-x86_64/wheel\n",
      "running install_egg_info\n",
      "running egg_info\n",
      "writing pyUniDOE.egg-info/PKG-INFO\n",
      "writing dependency_links to pyUniDOE.egg-info/dependency_links.txt\n",
      "writing requirements to pyUniDOE.egg-info/requires.txt\n",
      "writing top-level names to pyUniDOE.egg-info/top_level.txt\n",
      "reading manifest file 'pyUniDOE.egg-info/SOURCES.txt'\n",
      "writing manifest file 'pyUniDOE.egg-info/SOURCES.txt'\n",
      "Copying pyUniDOE.egg-info to build/bdist.linux-x86_64/wheel/pyUniDOE-0.1-py3.7.egg-info\n",
      "running install_scripts\n",
      "creating build/bdist.linux-x86_64/wheel/pyUniDOE-0.1.dist-info/WHEEL\n",
      "creating 'dist/pyUniDOE-0.1-cp37-cp37m-linux_x86_64.whl' and adding 'build/bdist.linux-x86_64/wheel' to it\n",
      "adding '_pyUniDOE_swig.cpython-37m-x86_64-linux-gnu.so'\n",
      "adding 'pyUniDOE/__init__.py'\n",
      "adding 'pyUniDOE/pyUniDOE.py'\n",
      "adding 'pyUniDOE/pyUniDOE_swig.py'\n",
      "adding 'pyUniDOE/data/UD_CD2.json'\n",
      "adding 'pyUniDOE/data/UD_MD2.json'\n",
      "adding 'pyUniDOE-0.1.dist-info/METADATA'\n",
      "adding 'pyUniDOE-0.1.dist-info/WHEEL'\n",
      "adding 'pyUniDOE-0.1.dist-info/top_level.txt'\n",
      "adding 'pyUniDOE-0.1.dist-info/RECORD'\n",
      "removing build/bdist.linux-x86_64/wheel\n"
     ]
    }
   ],
   "source": [
    "!swig -c++ -python pyUniDOE/pyUniDOE_swig.i\n",
    "!python setup.py bdist_wheel"
   ]
  }
 ],
 "metadata": {
  "kernelspec": {
   "display_name": "Python3",
   "language": "python",
   "name": "py3"
  },
  "language_info": {
   "codemirror_mode": {
    "name": "ipython",
    "version": 3
   },
   "file_extension": ".py",
   "mimetype": "text/x-python",
   "name": "python",
   "nbconvert_exporter": "python",
   "pygments_lexer": "ipython3",
   "version": "3.6.5"
  }
 },
 "nbformat": 4,
 "nbformat_minor": 2
}
