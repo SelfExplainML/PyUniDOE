{
 "cells": [
  {
   "cell_type": "code",
   "execution_count": 2,
   "metadata": {},
   "outputs": [
    {
     "ename": "ModuleNotFoundError",
     "evalue": "No module named '_pyunidoe_swig'",
     "output_type": "error",
     "traceback": [
      "\u001b[0;31m---------------------------------------------------------------------------\u001b[0m",
      "\u001b[0;31mModuleNotFoundError\u001b[0m                       Traceback (most recent call last)",
      "\u001b[0;32m~/zebin/UniDOE/pyUniDOE/pyunidoe/pyunidoe_swig.py\u001b[0m in \u001b[0;36mswig_import_helper\u001b[0;34m()\u001b[0m\n\u001b[1;32m     13\u001b[0m         \u001b[0;32mtry\u001b[0m\u001b[0;34m:\u001b[0m\u001b[0;34m\u001b[0m\u001b[0;34m\u001b[0m\u001b[0m\n\u001b[0;32m---> 14\u001b[0;31m             \u001b[0;32mreturn\u001b[0m \u001b[0mimportlib\u001b[0m\u001b[0;34m.\u001b[0m\u001b[0mimport_module\u001b[0m\u001b[0;34m(\u001b[0m\u001b[0mmname\u001b[0m\u001b[0;34m)\u001b[0m\u001b[0;34m\u001b[0m\u001b[0;34m\u001b[0m\u001b[0m\n\u001b[0m\u001b[1;32m     15\u001b[0m         \u001b[0;32mexcept\u001b[0m \u001b[0mImportError\u001b[0m\u001b[0;34m:\u001b[0m\u001b[0;34m\u001b[0m\u001b[0;34m\u001b[0m\u001b[0m\n",
      "\u001b[0;32m~/anaconda2_local/lib/python3.7/importlib/__init__.py\u001b[0m in \u001b[0;36mimport_module\u001b[0;34m(name, package)\u001b[0m\n\u001b[1;32m    126\u001b[0m             \u001b[0mlevel\u001b[0m \u001b[0;34m+=\u001b[0m \u001b[0;36m1\u001b[0m\u001b[0;34m\u001b[0m\u001b[0;34m\u001b[0m\u001b[0m\n\u001b[0;32m--> 127\u001b[0;31m     \u001b[0;32mreturn\u001b[0m \u001b[0m_bootstrap\u001b[0m\u001b[0;34m.\u001b[0m\u001b[0m_gcd_import\u001b[0m\u001b[0;34m(\u001b[0m\u001b[0mname\u001b[0m\u001b[0;34m[\u001b[0m\u001b[0mlevel\u001b[0m\u001b[0;34m:\u001b[0m\u001b[0;34m]\u001b[0m\u001b[0;34m,\u001b[0m \u001b[0mpackage\u001b[0m\u001b[0;34m,\u001b[0m \u001b[0mlevel\u001b[0m\u001b[0;34m)\u001b[0m\u001b[0;34m\u001b[0m\u001b[0;34m\u001b[0m\u001b[0m\n\u001b[0m\u001b[1;32m    128\u001b[0m \u001b[0;34m\u001b[0m\u001b[0m\n",
      "\u001b[0;32m~/anaconda2_local/lib/python3.7/importlib/_bootstrap.py\u001b[0m in \u001b[0;36m_gcd_import\u001b[0;34m(name, package, level)\u001b[0m\n",
      "\u001b[0;32m~/anaconda2_local/lib/python3.7/importlib/_bootstrap.py\u001b[0m in \u001b[0;36m_find_and_load\u001b[0;34m(name, import_)\u001b[0m\n",
      "\u001b[0;32m~/anaconda2_local/lib/python3.7/importlib/_bootstrap.py\u001b[0m in \u001b[0;36m_find_and_load_unlocked\u001b[0;34m(name, import_)\u001b[0m\n",
      "\u001b[0;31mModuleNotFoundError\u001b[0m: No module named 'pyunidoe._pyunidoe_swig'",
      "\nDuring handling of the above exception, another exception occurred:\n",
      "\u001b[0;31mModuleNotFoundError\u001b[0m                       Traceback (most recent call last)",
      "\u001b[0;32m<ipython-input-2-a06875428aad>\u001b[0m in \u001b[0;36m<module>\u001b[0;34m\u001b[0m\n\u001b[1;32m      1\u001b[0m \u001b[0;32mimport\u001b[0m \u001b[0mnumpy\u001b[0m \u001b[0;32mas\u001b[0m \u001b[0mnp\u001b[0m\u001b[0;34m\u001b[0m\u001b[0;34m\u001b[0m\u001b[0m\n\u001b[0;32m----> 2\u001b[0;31m \u001b[0;32mimport\u001b[0m \u001b[0mpyunidoe\u001b[0m \u001b[0;32mas\u001b[0m \u001b[0mpydoe\u001b[0m\u001b[0;34m\u001b[0m\u001b[0;34m\u001b[0m\u001b[0m\n\u001b[0m",
      "\u001b[0;32m~/zebin/UniDOE/pyUniDOE/pyunidoe/__init__.py\u001b[0m in \u001b[0;36m<module>\u001b[0;34m\u001b[0m\n\u001b[0;32m----> 1\u001b[0;31m \u001b[0;32mfrom\u001b[0m \u001b[0;34m.\u001b[0m\u001b[0mpyunidoe\u001b[0m \u001b[0;32mimport\u001b[0m \u001b[0mdesign_query\u001b[0m\u001b[0;34m\u001b[0m\u001b[0;34m\u001b[0m\u001b[0m\n\u001b[0m\u001b[1;32m      2\u001b[0m \u001b[0;32mfrom\u001b[0m \u001b[0;34m.\u001b[0m\u001b[0mpyunidoe\u001b[0m \u001b[0;32mimport\u001b[0m \u001b[0mdesign_eval\u001b[0m\u001b[0;34m\u001b[0m\u001b[0;34m\u001b[0m\u001b[0m\n\u001b[1;32m      3\u001b[0m \u001b[0;32mfrom\u001b[0m \u001b[0;34m.\u001b[0m\u001b[0mpyunidoe\u001b[0m \u001b[0;32mimport\u001b[0m \u001b[0mgen_ud\u001b[0m\u001b[0;34m\u001b[0m\u001b[0;34m\u001b[0m\u001b[0m\n\u001b[1;32m      4\u001b[0m \u001b[0;32mfrom\u001b[0m \u001b[0;34m.\u001b[0m\u001b[0mpyunidoe\u001b[0m \u001b[0;32mimport\u001b[0m \u001b[0mgen_aud\u001b[0m\u001b[0;34m\u001b[0m\u001b[0;34m\u001b[0m\u001b[0m\n\u001b[1;32m      5\u001b[0m \u001b[0;32mfrom\u001b[0m \u001b[0;34m.\u001b[0m\u001b[0mpyunidoe\u001b[0m \u001b[0;32mimport\u001b[0m \u001b[0mgen_aud_col\u001b[0m\u001b[0;34m\u001b[0m\u001b[0;34m\u001b[0m\u001b[0m\n",
      "\u001b[0;32m~/zebin/UniDOE/pyUniDOE/pyunidoe/pyunidoe.py\u001b[0m in \u001b[0;36m<module>\u001b[0;34m\u001b[0m\n\u001b[1;32m      5\u001b[0m \u001b[0;32mfrom\u001b[0m \u001b[0mseaborn\u001b[0m \u001b[0;32mimport\u001b[0m \u001b[0mpairplot\u001b[0m\u001b[0;34m\u001b[0m\u001b[0;34m\u001b[0m\u001b[0m\n\u001b[1;32m      6\u001b[0m \u001b[0;32mimport\u001b[0m \u001b[0mmatplotlib\u001b[0m\u001b[0;34m.\u001b[0m\u001b[0mpyplot\u001b[0m \u001b[0;32mas\u001b[0m \u001b[0mplt\u001b[0m\u001b[0;34m\u001b[0m\u001b[0;34m\u001b[0m\u001b[0m\n\u001b[0;32m----> 7\u001b[0;31m \u001b[0;32mfrom\u001b[0m \u001b[0;34m.\u001b[0m\u001b[0mpyunidoe_swig\u001b[0m \u001b[0;32mimport\u001b[0m \u001b[0mCritEval\u001b[0m\u001b[0;34m,\u001b[0m \u001b[0mSATA_UD\u001b[0m\u001b[0;34m,\u001b[0m \u001b[0mSATA_AUD\u001b[0m\u001b[0;34m,\u001b[0m \u001b[0mSATA_AUD_COL\u001b[0m\u001b[0;34m\u001b[0m\u001b[0;34m\u001b[0m\u001b[0m\n\u001b[0m\u001b[1;32m      8\u001b[0m \u001b[0;34m\u001b[0m\u001b[0m\n\u001b[1;32m      9\u001b[0m \u001b[0m__all__\u001b[0m \u001b[0;34m=\u001b[0m \u001b[0;34m[\u001b[0m\u001b[0;34m\"design_pairs_plot\"\u001b[0m\u001b[0;34m,\u001b[0m \u001b[0;34m\"design_eval\"\u001b[0m\u001b[0;34m,\u001b[0m \u001b[0;34m\"design_query\"\u001b[0m\u001b[0;34m,\u001b[0m \u001b[0;34m\"gen_ud\"\u001b[0m\u001b[0;34m,\u001b[0m \u001b[0;34m\"gen_aud\"\u001b[0m\u001b[0;34m,\u001b[0m \u001b[0;34m\"gen_aud_col\"\u001b[0m\u001b[0;34m,\u001b[0m \u001b[0;34m\"gen_ud_ms\"\u001b[0m\u001b[0;34m,\u001b[0m \u001b[0;34m\"gen_aud_ms\"\u001b[0m\u001b[0;34m,\u001b[0m \u001b[0;34m\"gen_aud_col_ms\"\u001b[0m\u001b[0;34m]\u001b[0m\u001b[0;34m\u001b[0m\u001b[0;34m\u001b[0m\u001b[0m\n",
      "\u001b[0;32m~/zebin/UniDOE/pyUniDOE/pyunidoe/pyunidoe_swig.py\u001b[0m in \u001b[0;36m<module>\u001b[0;34m\u001b[0m\n\u001b[1;32m     15\u001b[0m         \u001b[0;32mexcept\u001b[0m \u001b[0mImportError\u001b[0m\u001b[0;34m:\u001b[0m\u001b[0;34m\u001b[0m\u001b[0;34m\u001b[0m\u001b[0m\n\u001b[1;32m     16\u001b[0m             \u001b[0;32mreturn\u001b[0m \u001b[0mimportlib\u001b[0m\u001b[0;34m.\u001b[0m\u001b[0mimport_module\u001b[0m\u001b[0;34m(\u001b[0m\u001b[0;34m'_pyunidoe_swig'\u001b[0m\u001b[0;34m)\u001b[0m\u001b[0;34m\u001b[0m\u001b[0;34m\u001b[0m\u001b[0m\n\u001b[0;32m---> 17\u001b[0;31m     \u001b[0m_pyunidoe_swig\u001b[0m \u001b[0;34m=\u001b[0m \u001b[0mswig_import_helper\u001b[0m\u001b[0;34m(\u001b[0m\u001b[0;34m)\u001b[0m\u001b[0;34m\u001b[0m\u001b[0;34m\u001b[0m\u001b[0m\n\u001b[0m\u001b[1;32m     18\u001b[0m     \u001b[0;32mdel\u001b[0m \u001b[0mswig_import_helper\u001b[0m\u001b[0;34m\u001b[0m\u001b[0;34m\u001b[0m\u001b[0m\n\u001b[1;32m     19\u001b[0m \u001b[0;32melif\u001b[0m \u001b[0m_swig_python_version_info\u001b[0m \u001b[0;34m>=\u001b[0m \u001b[0;34m(\u001b[0m\u001b[0;36m2\u001b[0m\u001b[0;34m,\u001b[0m \u001b[0;36m6\u001b[0m\u001b[0;34m,\u001b[0m \u001b[0;36m0\u001b[0m\u001b[0;34m)\u001b[0m\u001b[0;34m:\u001b[0m\u001b[0;34m\u001b[0m\u001b[0;34m\u001b[0m\u001b[0m\n",
      "\u001b[0;32m~/zebin/UniDOE/pyUniDOE/pyunidoe/pyunidoe_swig.py\u001b[0m in \u001b[0;36mswig_import_helper\u001b[0;34m()\u001b[0m\n\u001b[1;32m     14\u001b[0m             \u001b[0;32mreturn\u001b[0m \u001b[0mimportlib\u001b[0m\u001b[0;34m.\u001b[0m\u001b[0mimport_module\u001b[0m\u001b[0;34m(\u001b[0m\u001b[0mmname\u001b[0m\u001b[0;34m)\u001b[0m\u001b[0;34m\u001b[0m\u001b[0;34m\u001b[0m\u001b[0m\n\u001b[1;32m     15\u001b[0m         \u001b[0;32mexcept\u001b[0m \u001b[0mImportError\u001b[0m\u001b[0;34m:\u001b[0m\u001b[0;34m\u001b[0m\u001b[0;34m\u001b[0m\u001b[0m\n\u001b[0;32m---> 16\u001b[0;31m             \u001b[0;32mreturn\u001b[0m \u001b[0mimportlib\u001b[0m\u001b[0;34m.\u001b[0m\u001b[0mimport_module\u001b[0m\u001b[0;34m(\u001b[0m\u001b[0;34m'_pyunidoe_swig'\u001b[0m\u001b[0;34m)\u001b[0m\u001b[0;34m\u001b[0m\u001b[0;34m\u001b[0m\u001b[0m\n\u001b[0m\u001b[1;32m     17\u001b[0m     \u001b[0m_pyunidoe_swig\u001b[0m \u001b[0;34m=\u001b[0m \u001b[0mswig_import_helper\u001b[0m\u001b[0;34m(\u001b[0m\u001b[0;34m)\u001b[0m\u001b[0;34m\u001b[0m\u001b[0;34m\u001b[0m\u001b[0m\n\u001b[1;32m     18\u001b[0m     \u001b[0;32mdel\u001b[0m \u001b[0mswig_import_helper\u001b[0m\u001b[0;34m\u001b[0m\u001b[0;34m\u001b[0m\u001b[0m\n",
      "\u001b[0;32m~/anaconda2_local/lib/python3.7/importlib/__init__.py\u001b[0m in \u001b[0;36mimport_module\u001b[0;34m(name, package)\u001b[0m\n\u001b[1;32m    125\u001b[0m                 \u001b[0;32mbreak\u001b[0m\u001b[0;34m\u001b[0m\u001b[0;34m\u001b[0m\u001b[0m\n\u001b[1;32m    126\u001b[0m             \u001b[0mlevel\u001b[0m \u001b[0;34m+=\u001b[0m \u001b[0;36m1\u001b[0m\u001b[0;34m\u001b[0m\u001b[0;34m\u001b[0m\u001b[0m\n\u001b[0;32m--> 127\u001b[0;31m     \u001b[0;32mreturn\u001b[0m \u001b[0m_bootstrap\u001b[0m\u001b[0;34m.\u001b[0m\u001b[0m_gcd_import\u001b[0m\u001b[0;34m(\u001b[0m\u001b[0mname\u001b[0m\u001b[0;34m[\u001b[0m\u001b[0mlevel\u001b[0m\u001b[0;34m:\u001b[0m\u001b[0;34m]\u001b[0m\u001b[0;34m,\u001b[0m \u001b[0mpackage\u001b[0m\u001b[0;34m,\u001b[0m \u001b[0mlevel\u001b[0m\u001b[0;34m)\u001b[0m\u001b[0;34m\u001b[0m\u001b[0;34m\u001b[0m\u001b[0m\n\u001b[0m\u001b[1;32m    128\u001b[0m \u001b[0;34m\u001b[0m\u001b[0m\n\u001b[1;32m    129\u001b[0m \u001b[0;34m\u001b[0m\u001b[0m\n",
      "\u001b[0;31mModuleNotFoundError\u001b[0m: No module named '_pyunidoe_swig'"
     ]
    }
   ],
   "source": [
    "import numpy as np \n",
    "import pyunidoe as pydoe"
   ]
  },
  {
   "cell_type": "markdown",
   "metadata": {},
   "source": [
    "Provided Functions: \n",
    "```python\n",
    "1.design_pairs_plot(x) \n",
    "2.design_eval(x, crit=\"CD2\")\n",
    "3.design_query(n,s,q,crit=\"CD2\",show_crit = True)\n",
    "4.gen_ud(n,s,q,init=\"rand\",initX=np.array([[]]),crit=\"CD2\",maxiter=100,hits_ratio=0.1,levelpermt=False,rand_seed=0,vis=False)\n",
    "5.gen_aud(xp,n,s,q,init=\"rand\",initX=np.array([[]]),crit=\"CD2\",maxiter=100,hits_ratio=0.1,levelpermt=False,rand_seed=0,vis=False)\n",
    "6.gen_aud_col(xp,n,s,q,init=\"rand\",initX=np.array([[]]),crit=\"CD2\",maxiter=100,hits_ratio=0.1,levelpermt=False,rand_seed=0,vis=False)\n",
    "7.gen_ud_ms(n, s, q, crit=\"CD2\", maxiter=100, nshoot = 5, rand_seed=0, vis=False)\n",
    "8.gen_aud_ms(xp, n, s, q, crit=\"CD2\", maxiter=100, nshoot = 5, rand_seed=0, vis=False)\n",
    "9.gen_aud_col_ms(xp, n, s, q, crit=\"CD2\", maxiter=100, nshoot = 5, rand_seed=0, vis=False)\n",
    "```"
   ]
  },
  {
   "cell_type": "markdown",
   "metadata": {},
   "source": [
    "## Evaluate existing designs"
   ]
  },
  {
   "cell_type": "code",
   "execution_count": 2,
   "metadata": {},
   "outputs": [
    {
     "data": {
      "text/plain": [
       "0.02957818930041123"
      ]
     },
     "execution_count": 2,
     "metadata": {},
     "output_type": "execute_result"
    }
   ],
   "source": [
    "x = np.array([[1, 2],\n",
    "              [3, 3],\n",
    "              [2, 1]])\n",
    "pydoe.design_eval(x,crit=\"CD2\")"
   ]
  },
  {
   "cell_type": "markdown",
   "metadata": {},
   "source": [
    "## Get an existing design from database "
   ]
  },
  {
   "cell_type": "code",
   "execution_count": 3,
   "metadata": {},
   "outputs": [
    {
     "name": "stdout",
     "output_type": "stream",
     "text": [
      "CD2 = 0.018781110801050938 MD2 = 0.07904112932148344 Maximin = 1.9452528224193026\n"
     ]
    },
    {
     "data": {
      "text/plain": [
       "array([[2, 6, 4, 2],\n",
       "       [1, 5, 3, 5],\n",
       "       [4, 3, 5, 1],\n",
       "       [1, 2, 6, 4],\n",
       "       [2, 1, 1, 3],\n",
       "       [5, 1, 4, 5],\n",
       "       [5, 6, 1, 4],\n",
       "       [6, 2, 3, 2],\n",
       "       [4, 3, 2, 6],\n",
       "       [6, 5, 6, 3],\n",
       "       [3, 4, 5, 6],\n",
       "       [3, 4, 2, 1]])"
      ]
     },
     "execution_count": 3,
     "metadata": {},
     "output_type": "execute_result"
    }
   ],
   "source": [
    "pydoe.design_query(n=12,s=4,q=6,crit=\"CD2\", ShowCrit = True)"
   ]
  },
  {
   "cell_type": "markdown",
   "metadata": {},
   "source": [
    "## Generate uniform design from random initialization"
   ]
  },
  {
   "cell_type": "code",
   "execution_count": null,
   "metadata": {
    "scrolled": true
   },
   "outputs": [
    {
     "name": "stdout",
     "output_type": "stream",
     "text": [
      "The initial design: \n",
      "[[6 6 1 3]\n",
      " [6 6 3 1]\n",
      " [1 3 4 5]\n",
      " [4 4 2 2]\n",
      " [2 1 3 6]\n",
      " [1 4 4 2]\n",
      " [4 5 1 6]\n",
      " [3 2 5 1]\n",
      " [2 3 6 4]\n",
      " [5 2 2 3]\n",
      " [5 5 6 4]\n",
      " [3 1 5 5]]\n",
      "The final design: \n",
      "[[4 6 6 4]\n",
      " [1 6 2 2]\n",
      " [3 1 3 4]\n",
      " [5 5 3 1]\n",
      " [2 2 1 3]\n",
      " [2 5 4 5]\n",
      " [4 4 1 6]\n",
      " [3 3 6 1]\n",
      " [1 2 5 6]\n",
      " [6 3 2 5]\n",
      " [6 4 5 3]\n",
      " [5 1 4 2]]\n"
     ]
    },
    {
     "data": {
      "image/png": "[encoded data removed]",
      "text/plain": [
       "<Figure size 720x432 with 1 Axes>"
      ]
     },
     "metadata": {
      "needs_background": "light"
     },
     "output_type": "display_data"
    }
   ],
   "source": [
    "stat=pydoe.GenUD(n=12,s=4,q=6,init=\"rand\",crit=\"CD2\",maxiter=100,vis=True)\n",
    "print(\"The initial design: \")\n",
    "print(stat[\"initial_design\"])\n",
    "\n",
    "print(\"The final design: \")\n",
    "print(stat[\"final_design\"])"
   ]
  },
  {
   "cell_type": "code",
   "execution_count": null,
   "metadata": {},
   "outputs": [
    {
     "data": {
      "image/png": "[encoded data removed]",
      "text/plain": [
       "<Figure size 720x720 with 20 Axes>"
      ]
     },
     "metadata": {
      "needs_background": "light"
     },
     "output_type": "display_data"
    }
   ],
   "source": [
    "x1 = stat[\"final_design\"]\n",
    "pydoe.DesignPairsPlot(x1)"
   ]
  },
  {
   "cell_type": "markdown",
   "metadata": {},
   "source": [
    "## Augment uniform design (Runs)"
   ]
  },
  {
   "cell_type": "code",
   "execution_count": null,
   "metadata": {
    "scrolled": true
   },
   "outputs": [],
   "source": [
    "stat = pydoe.GenAUD(xp = x1, n = 24, s = 4, q = 6, crit=\"CD2\", maxiter=100, vis = True)\n",
    "print(\"The initial design: \")\n",
    "print(stat[\"initial_design\"])\n",
    "\n",
    "print(\"The final design: \")\n",
    "print(stat[\"final_design\"])"
   ]
  },
  {
   "cell_type": "code",
   "execution_count": null,
   "metadata": {},
   "outputs": [],
   "source": [
    "x2 = stat[\"final_design\"]\n",
    "pydoe.DesignPairsPlot(x2)"
   ]
  },
  {
   "cell_type": "markdown",
   "metadata": {},
   "source": [
    "## Augment uniform design (Factors)"
   ]
  },
  {
   "cell_type": "code",
   "execution_count": null,
   "metadata": {},
   "outputs": [],
   "source": [
    "stat = pydoe.GenAUD_COL(xp=x1, n = 12, s = 5 ,q = 6, crit=\"CD2\", maxiter=100, vis = True)\n",
    "print(\"The initial design: \")\n",
    "print(stat[\"initial_design\"])\n",
    "\n",
    "print(\"The final design: \")\n",
    "print(stat[\"final_design\"])"
   ]
  },
  {
   "cell_type": "code",
   "execution_count": null,
   "metadata": {},
   "outputs": [],
   "source": [
    "x3 = stat[\"final_design\"]\n",
    "pydoe.DesignPairsPlot(x3)"
   ]
  },
  {
   "cell_type": "markdown",
   "metadata": {},
   "source": [
    "## Multi-shoot Strategy"
   ]
  },
  {
   "cell_type": "code",
   "execution_count": null,
   "metadata": {},
   "outputs": [],
   "source": [
    "x1_multi = pydoe.GenUD_MS(n=12, s=4, q=6, crit=\"CD2\", maxiter=100, nshoot = 5, vis=False)\n",
    "pydoe.DesignEval(x1_multi,crit=\"CD2\")"
   ]
  },
  {
   "cell_type": "code",
   "execution_count": null,
   "metadata": {},
   "outputs": [],
   "source": [
    "x2_multi = pydoe.GenAUD_MS(x1_multi, n=24, s=4, q=6, crit=\"CD2\", maxiter=100, nshoot = 5, vis=False)\n",
    "pydoe.DesignEval(x2_multi,crit=\"CD2\")"
   ]
  },
  {
   "cell_type": "code",
   "execution_count": null,
   "metadata": {},
   "outputs": [],
   "source": [
    "x3_multi = pydoe.GenAUD_COL_MS(x1_multi, n=12, s=5, q=6, crit=\"CD2\", maxiter=100, nshoot = 5, vis=False)\n",
    "pydoe.DesignEval(x3_multi,crit=\"CD2\")"
   ]
  }
 ],
 "metadata": {
  "kernelspec": {
   "display_name": "Python 3",
   "language": "python",
   "name": "python3"
  },
  "language_info": {
   "codemirror_mode": {
    "name": "ipython",
    "version": 3
   },
   "file_extension": ".py",
   "mimetype": "text/x-python",
   "name": "python",
   "nbconvert_exporter": "python",
   "pygments_lexer": "ipython3",
   "version": "3.7.3"
  }
 },
 "nbformat": 4,
 "nbformat_minor": 2
}
